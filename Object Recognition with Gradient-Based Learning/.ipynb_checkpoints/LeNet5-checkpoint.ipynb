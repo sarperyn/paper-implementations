{
 "cells": [
  {
   "cell_type": "code",
   "execution_count": 20,
   "metadata": {},
   "outputs": [],
   "source": [
    "import numpy as np\n",
    "import pandas as pd \n",
    "import os\n",
    "import torch\n",
    "import torchvision\n",
    "import matplotlib.pyplot as plt\n",
    "from torch.utils.data import DataLoader\n",
    "from torch import nn\n",
    "from torchvision import datasets, transforms\n",
    "import torch.nn.functional as F\n",
    "import torch.optim as optim\n",
    "from collections import defaultdict\n",
    "from tqdm.auto import tqdm\n",
    "\n",
    "import warnings\n",
    "warnings.simplefilter(action='ignore', category=FutureWarning)"
   ]
  },
  {
   "cell_type": "code",
   "execution_count": 21,
   "metadata": {},
   "outputs": [],
   "source": [
    "mnist_trainset = datasets.MNIST(root='../data', train=True, download=False, transform=transforms.ToTensor())\n",
    "mnist_testset = datasets.MNIST(root='../data', train=False, download=False, transform=transforms.ToTensor())"
   ]
  },
  {
   "cell_type": "code",
   "execution_count": 22,
   "metadata": {},
   "outputs": [],
   "source": [
    "train_dataloader = DataLoader(mnist_trainset,batch_size=64,shuffle=True)\n",
    "test_dataloader = DataLoader(mnist_testset,batch_size=64,shuffle=True)"
   ]
  },
  {
   "cell_type": "code",
   "execution_count": 58,
   "metadata": {},
   "outputs": [],
   "source": [
    "class LeNet(nn.Module):\n",
    "    def __init__(self):\n",
    "        super(LeNet, self).__init__()\n",
    "        self.relu = nn.ReLU()\n",
    "        self.pool = nn.AvgPool2d(kernel_size=(2, 2), stride=(2, 2))\n",
    "        \n",
    "        self.conv1 = nn.Conv2d(\n",
    "            in_channels=1,\n",
    "            out_channels=6,\n",
    "            kernel_size=(5, 5),\n",
    "            stride=(1, 1),\n",
    "            padding=(0, 0),\n",
    "        )\n",
    "        \n",
    "        self.conv2 = nn.Conv2d(\n",
    "            in_channels=6,\n",
    "            out_channels=16,\n",
    "            kernel_size=(5, 5),\n",
    "            stride=(1, 1),\n",
    "            padding=(0, 0),\n",
    "        )\n",
    "        \n",
    "        self.conv3 = nn.Conv2d(\n",
    "            in_channels=16,\n",
    "            out_channels=120,\n",
    "            kernel_size=(4, 4),\n",
    "            stride=(1, 1),\n",
    "            padding=(0, 0),\n",
    "        )\n",
    "        self.linear1 = nn.Linear(120, 84)\n",
    "        self.linear2 = nn.Linear(84, 10)\n",
    "\n",
    "    def forward(self, x):\n",
    "        x = self.relu(self.conv1(x)) #24d\n",
    "        x = self.pool(x)\n",
    "        x = self.relu(self.conv2(x))\n",
    "        x = self.pool(x)\n",
    "        x = self.relu(\n",
    "            self.conv3(x)\n",
    "        )  # num_examples x 120 x 1 x 1 --> num_examples x 120\n",
    "        x = x.reshape(x.shape[0], -1)\n",
    "        x = self.relu(self.linear1(x))\n",
    "        x = self.linear2(x)\n",
    "        return x\n",
    "\n",
    "        "
   ]
  },
  {
   "cell_type": "code",
   "execution_count": 59,
   "metadata": {},
   "outputs": [],
   "source": [
    "n_classes = len(mnist_trainset.classes)"
   ]
  },
  {
   "cell_type": "code",
   "execution_count": 60,
   "metadata": {},
   "outputs": [],
   "source": [
    "device = \"cuda\" if torch.cuda.is_available() else \"cpu\""
   ]
  },
  {
   "cell_type": "code",
   "execution_count": 61,
   "metadata": {},
   "outputs": [],
   "source": [
    "lenet = LeNet()"
   ]
  },
  {
   "cell_type": "code",
   "execution_count": 62,
   "metadata": {},
   "outputs": [
    {
     "name": "stdout",
     "output_type": "stream",
     "text": [
      "LeNet(\n",
      "  (relu): ReLU()\n",
      "  (pool): AvgPool2d(kernel_size=(2, 2), stride=(2, 2), padding=0)\n",
      "  (conv1): Conv2d(1, 6, kernel_size=(5, 5), stride=(1, 1))\n",
      "  (conv2): Conv2d(6, 16, kernel_size=(5, 5), stride=(1, 1))\n",
      "  (conv3): Conv2d(16, 120, kernel_size=(4, 4), stride=(1, 1))\n",
      "  (linear1): Linear(in_features=120, out_features=84, bias=True)\n",
      "  (linear2): Linear(in_features=84, out_features=10, bias=True)\n",
      ")\n"
     ]
    }
   ],
   "source": [
    "print(lenet)"
   ]
  },
  {
   "cell_type": "code",
   "execution_count": 63,
   "metadata": {},
   "outputs": [],
   "source": [
    "def train(model,optimizer,criterion,train_dataloader,device,EPOCHS,evaluate_epoch=True):\n",
    "    \n",
    "    model = model.to(device)\n",
    "    total = len(train_dataloader) * EPOCHS\n",
    "    log = defaultdict(list)\n",
    "    log[\"train_loss\"] = []\n",
    "    loss_a = []\n",
    "    \n",
    "    with tqdm(total=total,desc=\"Training\") as tt:\n",
    "        \n",
    "        for epoch in range(EPOCHS):\n",
    "            \n",
    "            total_loss, batch_loss, batch_counts = 0, 0, 0\n",
    "            \n",
    "            for batch_idx, (data, target) in enumerate(train_dataloader):\n",
    "                \n",
    "                model.train()\n",
    "                \n",
    "                optimizer.zero_grad()\n",
    "                batch_counts +=1\n",
    "                \n",
    "                out = model(data)\n",
    "                \n",
    "                loss = criterion(out, target)\n",
    "                            \n",
    "                loss.backward()\n",
    "                \n",
    "                total_loss += loss.item()\n",
    "                \n",
    "                optimizer.step()\n",
    "                \n",
    "                loss_a.append(loss.item())\n",
    "                \n",
    "            if evaluate_epoch:\n",
    "                print(f\"{epoch+1}/{EPOCHS}:\")\n",
    "                print(f\"  - Train Loss: {np.mean(loss_a)}\")\n",
    "                log[\"train_loss\"].append(total_loss / len(train_dataloader))\n",
    "            tt.update()\n",
    "            \n",
    "        print(\"Done.\")\n",
    "        tt.close()\n",
    "    return model, log\n",
    "                "
   ]
  },
  {
   "cell_type": "code",
   "execution_count": 69,
   "metadata": {},
   "outputs": [],
   "source": [
    "def test(model,criterion,test_dataloader,device):\n",
    "    \n",
    "    total = len(test_dataloader)\n",
    "    loss_a = []\n",
    "    \n",
    "        \n",
    "    with tqdm(total=total,leave=False,desc=\"Testing\") as ee:\n",
    "            \n",
    "        test_loss, test_batch_loss, test_batch_counts = 0, 0, 0\n",
    "        model.eval()\n",
    "        for data, target in test_dataloader:\n",
    "                \n",
    "            test_batch_counts += 1\n",
    "            with torch.no_grad():\n",
    "                out = model.forward(data)\n",
    "            \n",
    "            loss = criterion(out,target)\n",
    "            loss_a.append(loss.detach().cpu().numpy())\n",
    "            test_batch_loss += loss.item()\n",
    "            test_loss += loss.item()\n",
    "            \n",
    "        ee.update()\n",
    "        \n",
    "        print(f\"  - Test Loss: {np.mean(test_loss)}\")\n",
    "            \n",
    "        \n",
    "            \n",
    "        ee.close()\n",
    "        \n",
    "    return np.mean(loss_a)"
   ]
  },
  {
   "cell_type": "code",
   "execution_count": 70,
   "metadata": {},
   "outputs": [],
   "source": [
    "criterion = torch.nn.CrossEntropyLoss()\n",
    "EPOCHS = 20\n",
    "opts = {\n",
    "    'lr': 3e-4,\n",
    "    'batch_size': 64\n",
    "}\n",
    "optimizer = torch.optim.Adam(lenet.parameters(), opts['lr'])"
   ]
  },
  {
   "cell_type": "code",
   "execution_count": 71,
   "metadata": {
    "scrolled": false
   },
   "outputs": [
    {
     "data": {
      "application/vnd.jupyter.widget-view+json": {
       "model_id": "a4be771c9471481da529eef2b1902a80",
       "version_major": 2,
       "version_minor": 0
      },
      "text/plain": [
       "Training:   0%|          | 0/18760 [00:00<?, ?it/s]"
      ]
     },
     "metadata": {},
     "output_type": "display_data"
    },
    {
     "name": "stdout",
     "output_type": "stream",
     "text": [
      "1/20:\n",
      "  - Train Loss: 0.07982615072693207\n",
      "2/20:\n",
      "  - Train Loss: 0.0759800370839208\n",
      "3/20:\n",
      "  - Train Loss: 0.07241518785693837\n",
      "4/20:\n",
      "  - Train Loss: 0.06940734456653204\n",
      "5/20:\n",
      "  - Train Loss: 0.06673304888539945\n",
      "6/20:\n",
      "  - Train Loss: 0.06406645385336492\n",
      "7/20:\n",
      "  - Train Loss: 0.06159923783106817\n",
      "8/20:\n",
      "  - Train Loss: 0.05945473351845001\n",
      "9/20:\n",
      "  - Train Loss: 0.057381606123593186\n",
      "10/20:\n",
      "  - Train Loss: 0.055399234480110866\n",
      "11/20:\n",
      "  - Train Loss: 0.05354691390084651\n",
      "12/20:\n",
      "  - Train Loss: 0.05183530277070805\n",
      "13/20:\n",
      "  - Train Loss: 0.05014719132110968\n",
      "14/20:\n",
      "  - Train Loss: 0.04861726811115261\n",
      "15/20:\n",
      "  - Train Loss: 0.04711127359275762\n",
      "16/20:\n",
      "  - Train Loss: 0.04569027713291776\n",
      "17/20:\n",
      "  - Train Loss: 0.0443157401720603\n",
      "18/20:\n",
      "  - Train Loss: 0.043047751038963016\n",
      "19/20:\n",
      "  - Train Loss: 0.04180576612045598\n",
      "20/20:\n",
      "  - Train Loss: 0.040687713570008326\n",
      "Done.\n"
     ]
    },
    {
     "data": {
      "text/plain": [
       "(LeNet(\n",
       "   (relu): ReLU()\n",
       "   (pool): AvgPool2d(kernel_size=(2, 2), stride=(2, 2), padding=0)\n",
       "   (conv1): Conv2d(1, 6, kernel_size=(5, 5), stride=(1, 1))\n",
       "   (conv2): Conv2d(6, 16, kernel_size=(5, 5), stride=(1, 1))\n",
       "   (conv3): Conv2d(16, 120, kernel_size=(4, 4), stride=(1, 1))\n",
       "   (linear1): Linear(in_features=120, out_features=84, bias=True)\n",
       "   (linear2): Linear(in_features=84, out_features=10, bias=True)\n",
       " ),\n",
       " defaultdict(list,\n",
       "             {'train_loss': [0.07982615072693207,\n",
       "               0.07213392344090952,\n",
       "               0.06528548940297352,\n",
       "               0.060383814695313065,\n",
       "               0.056035866160869106,\n",
       "               0.05073347869319226,\n",
       "               0.04679594169728764,\n",
       "               0.04444320333012288,\n",
       "               0.04079658696473862,\n",
       "               0.03755788968876997,\n",
       "               0.03502370810820294,\n",
       "               0.033007580339185036,\n",
       "               0.02988985392592921,\n",
       "               0.028728266381710738,\n",
       "               0.02602735033522778,\n",
       "               0.024375330235319844,\n",
       "               0.02232314879834092,\n",
       "               0.021491935776309173,\n",
       "               0.019450037587329303,\n",
       "               0.019444715111502888]}))"
      ]
     },
     "execution_count": 71,
     "metadata": {},
     "output_type": "execute_result"
    }
   ],
   "source": [
    "train(model=lenet,\n",
    "    optimizer=optimizer,\n",
    "    criterion=criterion,\n",
    "    train_dataloader=train_dataloader,\n",
    "    device=device,\n",
    "    EPOCHS=EPOCHS)"
   ]
  },
  {
   "cell_type": "code",
   "execution_count": 72,
   "metadata": {},
   "outputs": [
    {
     "data": {
      "application/vnd.jupyter.widget-view+json": {
       "model_id": "784d72c0a2104268bdcfea9b795377e0",
       "version_major": 2,
       "version_minor": 0
      },
      "text/plain": [
       "Testing:   0%|          | 0/157 [00:00<?, ?it/s]"
      ]
     },
     "metadata": {},
     "output_type": "display_data"
    },
    {
     "name": "stdout",
     "output_type": "stream",
     "text": [
      "  - Test Loss: 8.235335960547673\n"
     ]
    },
    {
     "data": {
      "text/plain": [
       "0.052454364"
      ]
     },
     "execution_count": 72,
     "metadata": {},
     "output_type": "execute_result"
    }
   ],
   "source": [
    "test(model=lenet,\n",
    "    criterion=criterion,\n",
    "    test_dataloader=test_dataloader,\n",
    "    device=device)"
   ]
  },
  {
   "cell_type": "code",
   "execution_count": 73,
   "metadata": {
    "scrolled": true
   },
   "outputs": [
    {
     "name": "stdout",
     "output_type": "stream",
     "text": [
      "9843\n",
      "157\n",
      "98.43\n"
     ]
    }
   ],
   "source": [
    "with torch.no_grad():\n",
    "    true = 0\n",
    "    false = 0\n",
    "    for index in range(len(mnist_testset)):\n",
    "        \n",
    "        item = mnist_testset[index]\n",
    "        image=item[0].reshape([1,1,28,28])\n",
    "        true_target = item[1]\n",
    "        \n",
    "        pred = lenet(image)\n",
    "        predicted_class = np.argmax(pred)\n",
    "        \n",
    "        if predicted_class == true_target:\n",
    "            true +=1\n",
    "        else:\n",
    "            false +=1\n",
    "            \n",
    "    accuracy = (100 * true)/len(mnist_testset)\n",
    "    \n",
    "print(true)\n",
    "print(false)\n",
    "print(accuracy)"
   ]
  },
  {
   "cell_type": "code",
   "execution_count": 57,
   "metadata": {},
   "outputs": [
    {
     "data": {
      "image/png": "[encoded data removed]",
      "text/plain": [
       "<Figure size 432x288 with 1 Axes>"
      ]
     },
     "metadata": {
      "needs_background": "light"
     },
     "output_type": "display_data"
    }
   ],
   "source": [
    "with torch.no_grad():\n",
    "    index = 4\n",
    "    \n",
    "    \n",
    "    item = mnist_testset[index]\n",
    "    image=item[0].reshape([1,1,28,28])\n",
    "    true_target = item[1]\n",
    "    \n",
    "    \n",
    "    prediction = lenet(image)\n",
    "    \n",
    "    predicted_class = np.argmax(prediction)\n",
    "    \n",
    "    image = image.reshape(28, 28, 1)\n",
    "    \n",
    "    # Show result\n",
    "    plt.imshow(image, cmap='gray')\n",
    "    plt.title(f'Prediction: {predicted_class} - Actual target: {true_target}')\n",
    "    plt.show()"
   ]
  },
  {
   "cell_type": "code",
   "execution_count": 79,
   "metadata": {},
   "outputs": [],
   "source": [
    "torch.save(lenet, f\"lenet_{accuracy}.pt\")"
   ]
  },
  {
   "cell_type": "code",
   "execution_count": 80,
   "metadata": {},
   "outputs": [
    {
     "data": {
      "text/plain": [
       "LeNet(\n",
       "  (relu): ReLU()\n",
       "  (pool): AvgPool2d(kernel_size=(2, 2), stride=(2, 2), padding=0)\n",
       "  (conv1): Conv2d(1, 6, kernel_size=(5, 5), stride=(1, 1))\n",
       "  (conv2): Conv2d(6, 16, kernel_size=(5, 5), stride=(1, 1))\n",
       "  (conv3): Conv2d(16, 120, kernel_size=(4, 4), stride=(1, 1))\n",
       "  (linear1): Linear(in_features=120, out_features=84, bias=True)\n",
       "  (linear2): Linear(in_features=84, out_features=10, bias=True)\n",
       ")"
      ]
     },
     "execution_count": 80,
     "metadata": {},
     "output_type": "execute_result"
    }
   ],
   "source": [
    "model = torch.load(f\"lenet_{accuracy}.pt\")\n",
    "model.eval()"
   ]
  }
 ],
 "metadata": {
  "kernelspec": {
   "display_name": "Python 3",
   "language": "python",
   "name": "python3"
  },
  "language_info": {
   "codemirror_mode": {
    "name": "ipython",
    "version": 3
   },
   "file_extension": ".py",
   "mimetype": "text/x-python",
   "name": "python",
   "nbconvert_exporter": "python",
   "pygments_lexer": "ipython3",
   "version": "3.8.5"
  }
 },
 "nbformat": 4,
 "nbformat_minor": 4
}
