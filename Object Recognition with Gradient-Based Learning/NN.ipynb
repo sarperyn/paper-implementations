{
 "cells": [
  {
   "cell_type": "code",
   "execution_count": 9,
   "metadata": {},
   "outputs": [],
   "source": [
    "import numpy as np\n",
    "import pandas as pd \n",
    "import os\n",
    "import torch\n",
    "import torchvision\n",
    "import matplotlib.pyplot as plt\n",
    "from torch.utils.data import DataLoader\n",
    "from torch import nn\n",
    "from torchvision import datasets, transforms\n",
    "import torch.nn.functional as F\n",
    "import torch.optim as optim\n",
    "from collections import defaultdict\n",
    "from tqdm.auto import tqdm\n",
    "\n",
    "import warnings\n",
    "warnings.simplefilter(action='ignore', category=FutureWarning)"
   ]
  },
  {
   "cell_type": "code",
   "execution_count": 10,
   "metadata": {},
   "outputs": [],
   "source": [
    "mnist_trainset = datasets.MNIST(root='../data', train=True, download=True, transform=transforms.ToTensor())\n",
    "mnist_testset = datasets.MNIST(root='../data', train=False, download=True, transform=transforms.ToTensor())"
   ]
  },
  {
   "cell_type": "code",
   "execution_count": 11,
   "metadata": {},
   "outputs": [
    {
     "data": {
      "text/plain": [
       "Dataset MNIST\n",
       "    Number of datapoints: 60000\n",
       "    Root location: ../data\n",
       "    Split: Train\n",
       "    StandardTransform\n",
       "Transform: ToTensor()"
      ]
     },
     "execution_count": 11,
     "metadata": {},
     "output_type": "execute_result"
    }
   ],
   "source": [
    "mnist_trainset"
   ]
  },
  {
   "cell_type": "code",
   "execution_count": 12,
   "metadata": {},
   "outputs": [
    {
     "data": {
      "text/plain": [
       "Dataset MNIST\n",
       "    Number of datapoints: 10000\n",
       "    Root location: ../data\n",
       "    Split: Test\n",
       "    StandardTransform\n",
       "Transform: ToTensor()"
      ]
     },
     "execution_count": 12,
     "metadata": {},
     "output_type": "execute_result"
    }
   ],
   "source": [
    "mnist_testset"
   ]
  },
  {
   "cell_type": "code",
   "execution_count": 13,
   "metadata": {},
   "outputs": [],
   "source": [
    "train_dataloader = DataLoader(mnist_trainset,batch_size=64,shuffle=True)\n",
    "test_dataloader = DataLoader(mnist_testset,batch_size=64,shuffle=True)"
   ]
  },
  {
   "cell_type": "code",
   "execution_count": 14,
   "metadata": {},
   "outputs": [],
   "source": [
    "examples = enumerate(train_dataloader)\n",
    "batch_idx, (example_data, example_targets) = next(examples)"
   ]
  },
  {
   "cell_type": "code",
   "execution_count": 15,
   "metadata": {},
   "outputs": [
    {
     "data": {
      "image/png": "[encoded data removed]",
      "text/plain": [
       "<Figure size 576x576 with 9 Axes>"
      ]
     },
     "metadata": {
      "needs_background": "light"
     },
     "output_type": "display_data"
    }
   ],
   "source": [
    "labels_map = mnist_trainset.classes\n",
    "figure = plt.figure(figsize=(8, 8))\n",
    "cols, rows = 3, 3\n",
    "for i in range(1, cols * rows + 1):\n",
    "    sample_idx = torch.randint(len(mnist_trainset), size=(1,)).item()\n",
    "    img, label = mnist_trainset[sample_idx]\n",
    "    figure.add_subplot(rows, cols, i)\n",
    "    plt.title(\"Ground Truth: {}\".format(example_targets[i]))\n",
    "    plt.axis(\"off\")\n",
    "    plt.tight_layout()\n",
    "    plt.imshow(example_data[i][0], cmap='gray', interpolation='none')\n",
    "plt.show()"
   ]
  },
  {
   "cell_type": "code",
   "execution_count": 16,
   "metadata": {},
   "outputs": [],
   "source": [
    "device = \"cuda\" if torch.cuda.is_available() else \"cpu\""
   ]
  },
  {
   "cell_type": "code",
   "execution_count": 17,
   "metadata": {},
   "outputs": [],
   "source": [
    "class NeuralNetwork(nn.Module):\n",
    "    \n",
    "    def __init__(self):\n",
    "        super(NeuralNetwork,self).__init__()\n",
    "        self.flatten  = nn.Flatten()\n",
    "        \n",
    "        self.linear_relu_stack = nn.Sequential(\n",
    "            nn.Linear(28*28,512),\n",
    "            nn.ReLU(),\n",
    "            nn.Linear(512,512),\n",
    "            nn.ReLU(),\n",
    "            nn.Linear(512,512),\n",
    "            nn.ReLU(),\n",
    "            nn.Linear(512,10)\n",
    "            \n",
    "        )\n",
    "        \n",
    "    def forward(self,x):\n",
    "        x = self.flatten(x)\n",
    "        logits = self.linear_relu_stack(x)\n",
    "                                        \n",
    "        return logits\n",
    "        "
   ]
  },
  {
   "cell_type": "code",
   "execution_count": 18,
   "metadata": {},
   "outputs": [],
   "source": [
    "model = NeuralNetwork()"
   ]
  },
  {
   "cell_type": "code",
   "execution_count": 19,
   "metadata": {},
   "outputs": [
    {
     "name": "stdout",
     "output_type": "stream",
     "text": [
      "NeuralNetwork(\n",
      "  (flatten): Flatten(start_dim=1, end_dim=-1)\n",
      "  (linear_relu_stack): Sequential(\n",
      "    (0): Linear(in_features=784, out_features=512, bias=True)\n",
      "    (1): ReLU()\n",
      "    (2): Linear(in_features=512, out_features=512, bias=True)\n",
      "    (3): ReLU()\n",
      "    (4): Linear(in_features=512, out_features=512, bias=True)\n",
      "    (5): ReLU()\n",
      "    (6): Linear(in_features=512, out_features=10, bias=True)\n",
      "  )\n",
      ")\n"
     ]
    }
   ],
   "source": [
    "print(model)"
   ]
  },
  {
   "cell_type": "code",
   "execution_count": 20,
   "metadata": {},
   "outputs": [],
   "source": [
    "def train(model,optimizer,criterion,train_dataloader,device,EPOCHS,evaluate_epoch=True):\n",
    "    \n",
    "    model = model.to(device)\n",
    "    total = len(train_dataloader) * EPOCHS\n",
    "    log = defaultdict(list)\n",
    "    log[\"train_loss\"] = []\n",
    "    loss_a = []\n",
    "    \n",
    "    with tqdm(total=total,desc=\"Training\") as tt:\n",
    "        \n",
    "        for epoch in range(EPOCHS):\n",
    "            \n",
    "            total_loss, batch_loss, batch_counts = 0, 0, 0\n",
    "            \n",
    "            for batch_idx, (data, target) in enumerate(train_dataloader):\n",
    "                \n",
    "                model.train()\n",
    "                \n",
    "                optimizer.zero_grad()\n",
    "                batch_counts +=1\n",
    "                \n",
    "                out = model(data)\n",
    "                \n",
    "                loss = criterion(out, target)\n",
    "                            \n",
    "                loss.backward()\n",
    "                \n",
    "                total_loss += loss.item()\n",
    "                \n",
    "                optimizer.step()\n",
    "                \n",
    "                loss_a.append(loss.item())\n",
    "                \n",
    "            if batch_idx % 50 == 0:\n",
    "                print(\"OUT:\",out)\n",
    "                print(\"Shape:\",out.shape)\n",
    "                print(\"Target:\",target)\n",
    "                print(\"Shape:\",target.shape)\n",
    "            if evaluate_epoch:\n",
    "                print(f\"{epoch+1}/{EPOCHS}:\")\n",
    "                print(f\"  - Train Loss: {np.mean(loss_a)}\")\n",
    "                log[\"train_loss\"].append(total_loss / len(train_dataloader))\n",
    "            tt.update()\n",
    "            \n",
    "        print(\"Done.\")\n",
    "        tt.close()\n",
    "    return model, log\n",
    "                "
   ]
  },
  {
   "cell_type": "code",
   "execution_count": 21,
   "metadata": {},
   "outputs": [],
   "source": [
    "def test(model,criterion,test_dataloader,device):\n",
    "    \n",
    "    total = len(test_dataloader)\n",
    "    loss_a = []\n",
    "    \n",
    "        \n",
    "    with tqdm(total=total,leave=False,desc=\"Testing\") as ee:\n",
    "            \n",
    "        test_loss, test_batch_loss, test_batch_counts = 0, 0, 0\n",
    "        model.eval()\n",
    "        for data, target in test_dataloader:\n",
    "                \n",
    "            test_batch_counts += 1\n",
    "            with torch.no_grad():\n",
    "                out = model.forward(data)\n",
    "            \n",
    "            loss = criterion(out,target)\n",
    "            loss_a.append(loss.detach().cpu().numpy())\n",
    "            test_batch_loss += loss.item()\n",
    "            test_loss += loss.item()\n",
    "            \n",
    "        ee.update()\n",
    "        \n",
    "        print(f\"  - Test Loss: {np.mean(test_loss)}\")\n",
    "            \n",
    "        \n",
    "            \n",
    "        ee.close()\n",
    "        \n",
    "    return np.mean(loss_a)"
   ]
  },
  {
   "cell_type": "code",
   "execution_count": 22,
   "metadata": {},
   "outputs": [],
   "source": [
    "optimizer = torch.optim.Adam(model.parameters())\n",
    "criterion = torch.nn.CrossEntropyLoss()\n",
    "EPOCHS = 20\n",
    "opts = {\n",
    "    'lr': 2e-4,\n",
    "    'batch_size': 64\n",
    "}\n",
    "optimizer = torch.optim.Adam(model.parameters(), opts['lr'])"
   ]
  },
  {
   "cell_type": "code",
   "execution_count": 23,
   "metadata": {},
   "outputs": [
    {
     "data": {
      "application/vnd.jupyter.widget-view+json": {
       "model_id": "b57b7a581b534b478ee92c24361979fb",
       "version_major": 2,
       "version_minor": 0
      },
      "text/plain": [
       "Training:   0%|          | 0/18760 [00:00<?, ?it/s]"
      ]
     },
     "metadata": {},
     "output_type": "display_data"
    },
    {
     "name": "stdout",
     "output_type": "stream",
     "text": [
      "1/20:\n",
      "  - Train Loss: 0.37231600012924115\n",
      "2/20:\n",
      "  - Train Loss: 0.2559769484869786\n",
      "3/20:\n",
      "  - Train Loss: 0.20112141933458955\n",
      "4/20:\n",
      "  - Train Loss: 0.16711648162228487\n",
      "5/20:\n",
      "  - Train Loss: 0.14339722553071982\n",
      "6/20:\n",
      "  - Train Loss: 0.12560808789759462\n",
      "7/20:\n",
      "  - Train Loss: 0.11155230913746267\n",
      "8/20:\n",
      "  - Train Loss: 0.10042527595109672\n",
      "9/20:\n",
      "  - Train Loss: 0.09120068954959813\n",
      "10/20:\n",
      "  - Train Loss: 0.08344147564496068\n",
      "11/20:\n",
      "  - Train Loss: 0.07695705010914324\n",
      "12/20:\n",
      "  - Train Loss: 0.07143374865303535\n",
      "13/20:\n",
      "  - Train Loss: 0.06651402092530313\n",
      "14/20:\n",
      "  - Train Loss: 0.06230929517852705\n",
      "15/20:\n",
      "  - Train Loss: 0.05869835096457587\n",
      "16/20:\n",
      "  - Train Loss: 0.05547491269481892\n",
      "17/20:\n",
      "  - Train Loss: 0.052694830488887574\n",
      "18/20:\n",
      "  - Train Loss: 0.05012130857785802\n",
      "19/20:\n",
      "  - Train Loss: 0.047739325331335715\n",
      "20/20:\n",
      "  - Train Loss: 0.04566313398324297\n",
      "Done.\n"
     ]
    },
    {
     "data": {
      "text/plain": [
       "(NeuralNetwork(\n",
       "   (flatten): Flatten(start_dim=1, end_dim=-1)\n",
       "   (linear_relu_stack): Sequential(\n",
       "     (0): Linear(in_features=784, out_features=512, bias=True)\n",
       "     (1): ReLU()\n",
       "     (2): Linear(in_features=512, out_features=512, bias=True)\n",
       "     (3): ReLU()\n",
       "     (4): Linear(in_features=512, out_features=512, bias=True)\n",
       "     (5): ReLU()\n",
       "     (6): Linear(in_features=512, out_features=10, bias=True)\n",
       "   )\n",
       " ),\n",
       " defaultdict(list,\n",
       "             {'train_loss': [0.37231600012924115,\n",
       "               0.1396378968447161,\n",
       "               0.09141036102981139,\n",
       "               0.06510166848537081,\n",
       "               0.0485202011644596,\n",
       "               0.03666239973196863,\n",
       "               0.027217636576671003,\n",
       "               0.02253604364653514,\n",
       "               0.017403998337609423,\n",
       "               0.013608550503223538,\n",
       "               0.01211279475096887,\n",
       "               0.01067743263584857,\n",
       "               0.007477288192516472,\n",
       "               0.0076478604704380004,\n",
       "               0.008145131969259348,\n",
       "               0.007123338648464621,\n",
       "               0.008213515193986094,\n",
       "               0.006371436090355575,\n",
       "               0.004863626893934248,\n",
       "               0.006215498369480742]}))"
      ]
     },
     "execution_count": 23,
     "metadata": {},
     "output_type": "execute_result"
    }
   ],
   "source": [
    "train(model=model,\n",
    "    optimizer=optimizer,\n",
    "    criterion=criterion,\n",
    "    train_dataloader=train_dataloader,\n",
    "    device=device,\n",
    "    EPOCHS=EPOCHS)"
   ]
  },
  {
   "cell_type": "code",
   "execution_count": 24,
   "metadata": {},
   "outputs": [
    {
     "data": {
      "application/vnd.jupyter.widget-view+json": {
       "model_id": "9423a5888a494bcb8aa6e547f9827981",
       "version_major": 2,
       "version_minor": 0
      },
      "text/plain": [
       "Testing:   0%|          | 0/157 [00:00<?, ?it/s]"
      ]
     },
     "metadata": {},
     "output_type": "display_data"
    },
    {
     "name": "stdout",
     "output_type": "stream",
     "text": [
      "  - Test Loss: 16.85993954389778\n"
     ]
    },
    {
     "data": {
      "text/plain": [
       "0.10738815"
      ]
     },
     "execution_count": 24,
     "metadata": {},
     "output_type": "execute_result"
    }
   ],
   "source": [
    "test(model=model,\n",
    "    criterion=criterion,\n",
    "    test_dataloader=test_dataloader,\n",
    "    device=device)"
   ]
  },
  {
   "cell_type": "code",
   "execution_count": 25,
   "metadata": {
    "scrolled": true
   },
   "outputs": [
    {
     "data": {
      "image/png": "[encoded data removed]",
      "text/plain": [
       "<Figure size 432x288 with 1 Axes>"
      ]
     },
     "metadata": {
      "needs_background": "light"
     },
     "output_type": "display_data"
    }
   ],
   "source": [
    "with torch.no_grad():\n",
    "    index = 4\n",
    "    item = mnist_testset[index]\n",
    "    image = item[0]\n",
    "    true_target = item[1]\n",
    "    \n",
    "    \n",
    "    prediction = model(image)\n",
    "    \n",
    "    predicted_class = np.argmax(prediction)\n",
    "    \n",
    "    image = image.reshape(28, 28, 1)\n",
    "    \n",
    "    # Show result\n",
    "    plt.imshow(image, cmap='gray')\n",
    "    plt.title(f'Prediction: {predicted_class} - Actual target: {true_target}')\n",
    "    plt.show()"
   ]
  },
  {
   "cell_type": "code",
   "execution_count": 26,
   "metadata": {
    "scrolled": true
   },
   "outputs": [
    {
     "name": "stdout",
     "output_type": "stream",
     "text": [
      "tensor([[ -5.0305,  -4.3266, -10.9874, -24.8515,  -8.2893,  -2.2361,  28.4584,\n",
      "         -30.9983,  -4.8058, -11.1802]])\n",
      "9786\n",
      "214\n",
      "97.86\n"
     ]
    }
   ],
   "source": [
    "with torch.no_grad():\n",
    "    true = 0\n",
    "    false = 0\n",
    "    for index in range(len(mnist_testset)):\n",
    "        \n",
    "        item = mnist_testset[index]\n",
    "        image=item[0]\n",
    "        true_target = item[1]\n",
    "        \n",
    "        pred = model(image)\n",
    "        predicted_class = np.argmax(pred)\n",
    "        \n",
    "        if predicted_class == true_target:\n",
    "            true +=1\n",
    "        else:\n",
    "            false +=1\n",
    "            \n",
    "    accuracy = (100 * true)/len(mnist_testset)\n",
    "print(pred)\n",
    "print(true)\n",
    "print(false)\n",
    "print(accuracy)"
   ]
  },
  {
   "cell_type": "code",
   "execution_count": 27,
   "metadata": {},
   "outputs": [],
   "source": [
    "torch.save(model, f\"nn_{accuracy}.pt\")"
   ]
  },
  {
   "cell_type": "code",
   "execution_count": null,
   "metadata": {},
   "outputs": [],
   "source": []
  }
 ],
 "metadata": {
  "kernelspec": {
   "display_name": "Python 3",
   "language": "python",
   "name": "python3"
  },
  "language_info": {
   "codemirror_mode": {
    "name": "ipython",
    "version": 3
   },
   "file_extension": ".py",
   "mimetype": "text/x-python",
   "name": "python",
   "nbconvert_exporter": "python",
   "pygments_lexer": "ipython3",
   "version": "3.8.5"
  }
 },
 "nbformat": 4,
 "nbformat_minor": 4
}
